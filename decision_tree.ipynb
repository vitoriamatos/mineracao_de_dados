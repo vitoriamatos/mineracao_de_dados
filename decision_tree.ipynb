{
 "cells": [
  {
   "cell_type": "markdown",
   "metadata": {},
   "source": [
    "#### Instalando as Dependencias"
   ]
  },
  {
   "cell_type": "code",
   "execution_count": 1,
   "metadata": {},
   "outputs": [
    {
     "name": "stdout",
     "output_type": "stream",
     "text": [
      "Collecting scikit-learn\n",
      "  Using cached scikit_learn-1.1.3-cp38-cp38-manylinux_2_17_x86_64.manylinux2014_x86_64.whl (31.2 MB)\n",
      "Requirement already satisfied, skipping upgrade: threadpoolctl>=2.0.0 in /home/vitoria/.local/lib/python3.8/site-packages (from scikit-learn) (3.1.0)\n",
      "Requirement already satisfied, skipping upgrade: numpy>=1.17.3 in /home/vitoria/.local/lib/python3.8/site-packages (from scikit-learn) (1.23.3)\n",
      "Requirement already satisfied, skipping upgrade: scipy>=1.3.2 in /home/vitoria/.local/lib/python3.8/site-packages (from scikit-learn) (1.9.3)\n",
      "Requirement already satisfied, skipping upgrade: joblib>=1.0.0 in /home/vitoria/.local/lib/python3.8/site-packages (from scikit-learn) (1.2.0)\n",
      "Installing collected packages: scikit-learn\n",
      "  Attempting uninstall: scikit-learn\n",
      "    Found existing installation: scikit-learn 0.24.1\n",
      "    Uninstalling scikit-learn-0.24.1:\n",
      "      Successfully uninstalled scikit-learn-0.24.1\n",
      "Successfully installed scikit-learn-1.1.3\n",
      "Note: you may need to restart the kernel to use updated packages.\n"
     ]
    }
   ],
   "source": [
    "pip install -U scikit-learn"
   ]
  },
  {
   "cell_type": "code",
   "execution_count": 2,
   "metadata": {},
   "outputs": [
    {
     "name": "stdout",
     "output_type": "stream",
     "text": [
      "Requirement already satisfied: pydotplus in /home/vitoria/.local/lib/python3.8/site-packages (2.0.2)\n",
      "Requirement already satisfied: pyparsing>=2.0.1 in /home/vitoria/.local/lib/python3.8/site-packages (from pydotplus) (3.0.9)\n",
      "Note: you may need to restart the kernel to use updated packages.\n"
     ]
    }
   ],
   "source": [
    "pip install pydotplus"
   ]
  },
  {
   "cell_type": "code",
   "execution_count": 3,
   "metadata": {},
   "outputs": [],
   "source": [
    "\n",
    "import pandas as pd\n",
    "import matplotlib.pyplot as plt\n",
    "import pydotplus\n",
    "from IPython.display import Image\n",
    "from sklearn import tree\n",
    "import numpy as np"
   ]
  },
  {
   "cell_type": "markdown",
   "metadata": {},
   "source": [
    "#### Análise dos dados"
   ]
  },
  {
   "cell_type": "code",
   "execution_count": 127,
   "metadata": {},
   "outputs": [
    {
     "data": {
      "text/html": [
       "<div>\n",
       "<style scoped>\n",
       "    .dataframe tbody tr th:only-of-type {\n",
       "        vertical-align: middle;\n",
       "    }\n",
       "\n",
       "    .dataframe tbody tr th {\n",
       "        vertical-align: top;\n",
       "    }\n",
       "\n",
       "    .dataframe thead th {\n",
       "        text-align: right;\n",
       "    }\n",
       "</style>\n",
       "<table border=\"1\" class=\"dataframe\">\n",
       "  <thead>\n",
       "    <tr style=\"text-align: right;\">\n",
       "      <th></th>\n",
       "      <th>Unnamed: 0</th>\n",
       "      <th>nivelbairro</th>\n",
       "      <th>serie</th>\n",
       "      <th>genero</th>\n",
       "      <th>resultado</th>\n",
       "      <th>IN_AGUA_FILTRADA</th>\n",
       "      <th>IN_ENERGIA_REDE_PUBLICA</th>\n",
       "      <th>IN_LABORATORIO_INFORMATICA</th>\n",
       "      <th>IN_QUADRA_ESPORTES_COBERTA</th>\n",
       "      <th>IN_COZINHA</th>\n",
       "      <th>IN_REFEITORIO</th>\n",
       "      <th>IN_DESPENSA</th>\n",
       "      <th>IN_INTERNET</th>\n",
       "    </tr>\n",
       "  </thead>\n",
       "  <tbody>\n",
       "    <tr>\n",
       "      <th>0</th>\n",
       "      <td>0</td>\n",
       "      <td>1</td>\n",
       "      <td>1</td>\n",
       "      <td>2</td>\n",
       "      <td>0</td>\n",
       "      <td>1.0</td>\n",
       "      <td>1.0</td>\n",
       "      <td>0.0</td>\n",
       "      <td>0.0</td>\n",
       "      <td>1.0</td>\n",
       "      <td>0.0</td>\n",
       "      <td>1.0</td>\n",
       "      <td>1.0</td>\n",
       "    </tr>\n",
       "    <tr>\n",
       "      <th>1</th>\n",
       "      <td>1</td>\n",
       "      <td>1</td>\n",
       "      <td>1</td>\n",
       "      <td>2</td>\n",
       "      <td>0</td>\n",
       "      <td>1.0</td>\n",
       "      <td>1.0</td>\n",
       "      <td>0.0</td>\n",
       "      <td>0.0</td>\n",
       "      <td>1.0</td>\n",
       "      <td>0.0</td>\n",
       "      <td>1.0</td>\n",
       "      <td>1.0</td>\n",
       "    </tr>\n",
       "    <tr>\n",
       "      <th>2</th>\n",
       "      <td>2</td>\n",
       "      <td>1</td>\n",
       "      <td>1</td>\n",
       "      <td>1</td>\n",
       "      <td>0</td>\n",
       "      <td>1.0</td>\n",
       "      <td>1.0</td>\n",
       "      <td>0.0</td>\n",
       "      <td>0.0</td>\n",
       "      <td>1.0</td>\n",
       "      <td>0.0</td>\n",
       "      <td>1.0</td>\n",
       "      <td>1.0</td>\n",
       "    </tr>\n",
       "    <tr>\n",
       "      <th>3</th>\n",
       "      <td>3</td>\n",
       "      <td>1</td>\n",
       "      <td>1</td>\n",
       "      <td>1</td>\n",
       "      <td>0</td>\n",
       "      <td>1.0</td>\n",
       "      <td>1.0</td>\n",
       "      <td>0.0</td>\n",
       "      <td>0.0</td>\n",
       "      <td>1.0</td>\n",
       "      <td>0.0</td>\n",
       "      <td>1.0</td>\n",
       "      <td>1.0</td>\n",
       "    </tr>\n",
       "    <tr>\n",
       "      <th>4</th>\n",
       "      <td>4</td>\n",
       "      <td>1</td>\n",
       "      <td>1</td>\n",
       "      <td>1</td>\n",
       "      <td>0</td>\n",
       "      <td>1.0</td>\n",
       "      <td>1.0</td>\n",
       "      <td>0.0</td>\n",
       "      <td>0.0</td>\n",
       "      <td>1.0</td>\n",
       "      <td>0.0</td>\n",
       "      <td>1.0</td>\n",
       "      <td>1.0</td>\n",
       "    </tr>\n",
       "    <tr>\n",
       "      <th>...</th>\n",
       "      <td>...</td>\n",
       "      <td>...</td>\n",
       "      <td>...</td>\n",
       "      <td>...</td>\n",
       "      <td>...</td>\n",
       "      <td>...</td>\n",
       "      <td>...</td>\n",
       "      <td>...</td>\n",
       "      <td>...</td>\n",
       "      <td>...</td>\n",
       "      <td>...</td>\n",
       "      <td>...</td>\n",
       "      <td>...</td>\n",
       "    </tr>\n",
       "    <tr>\n",
       "      <th>90741</th>\n",
       "      <td>90741</td>\n",
       "      <td>4</td>\n",
       "      <td>1</td>\n",
       "      <td>2</td>\n",
       "      <td>0</td>\n",
       "      <td>1.0</td>\n",
       "      <td>1.0</td>\n",
       "      <td>0.0</td>\n",
       "      <td>0.0</td>\n",
       "      <td>1.0</td>\n",
       "      <td>0.0</td>\n",
       "      <td>0.0</td>\n",
       "      <td>0.0</td>\n",
       "    </tr>\n",
       "    <tr>\n",
       "      <th>90742</th>\n",
       "      <td>90742</td>\n",
       "      <td>4</td>\n",
       "      <td>1</td>\n",
       "      <td>2</td>\n",
       "      <td>0</td>\n",
       "      <td>1.0</td>\n",
       "      <td>1.0</td>\n",
       "      <td>0.0</td>\n",
       "      <td>0.0</td>\n",
       "      <td>1.0</td>\n",
       "      <td>0.0</td>\n",
       "      <td>0.0</td>\n",
       "      <td>0.0</td>\n",
       "    </tr>\n",
       "    <tr>\n",
       "      <th>90743</th>\n",
       "      <td>90743</td>\n",
       "      <td>4</td>\n",
       "      <td>1</td>\n",
       "      <td>2</td>\n",
       "      <td>0</td>\n",
       "      <td>1.0</td>\n",
       "      <td>1.0</td>\n",
       "      <td>0.0</td>\n",
       "      <td>0.0</td>\n",
       "      <td>1.0</td>\n",
       "      <td>0.0</td>\n",
       "      <td>0.0</td>\n",
       "      <td>0.0</td>\n",
       "    </tr>\n",
       "    <tr>\n",
       "      <th>90744</th>\n",
       "      <td>90744</td>\n",
       "      <td>4</td>\n",
       "      <td>1</td>\n",
       "      <td>2</td>\n",
       "      <td>0</td>\n",
       "      <td>1.0</td>\n",
       "      <td>1.0</td>\n",
       "      <td>0.0</td>\n",
       "      <td>0.0</td>\n",
       "      <td>1.0</td>\n",
       "      <td>0.0</td>\n",
       "      <td>0.0</td>\n",
       "      <td>0.0</td>\n",
       "    </tr>\n",
       "    <tr>\n",
       "      <th>90745</th>\n",
       "      <td>90745</td>\n",
       "      <td>4</td>\n",
       "      <td>1</td>\n",
       "      <td>1</td>\n",
       "      <td>0</td>\n",
       "      <td>1.0</td>\n",
       "      <td>1.0</td>\n",
       "      <td>0.0</td>\n",
       "      <td>0.0</td>\n",
       "      <td>1.0</td>\n",
       "      <td>0.0</td>\n",
       "      <td>0.0</td>\n",
       "      <td>0.0</td>\n",
       "    </tr>\n",
       "  </tbody>\n",
       "</table>\n",
       "<p>90746 rows × 13 columns</p>\n",
       "</div>"
      ],
      "text/plain": [
       "       Unnamed: 0  nivelbairro  serie  genero  resultado  IN_AGUA_FILTRADA  \\\n",
       "0               0            1      1       2          0               1.0   \n",
       "1               1            1      1       2          0               1.0   \n",
       "2               2            1      1       1          0               1.0   \n",
       "3               3            1      1       1          0               1.0   \n",
       "4               4            1      1       1          0               1.0   \n",
       "...           ...          ...    ...     ...        ...               ...   \n",
       "90741       90741            4      1       2          0               1.0   \n",
       "90742       90742            4      1       2          0               1.0   \n",
       "90743       90743            4      1       2          0               1.0   \n",
       "90744       90744            4      1       2          0               1.0   \n",
       "90745       90745            4      1       1          0               1.0   \n",
       "\n",
       "       IN_ENERGIA_REDE_PUBLICA  IN_LABORATORIO_INFORMATICA  \\\n",
       "0                          1.0                         0.0   \n",
       "1                          1.0                         0.0   \n",
       "2                          1.0                         0.0   \n",
       "3                          1.0                         0.0   \n",
       "4                          1.0                         0.0   \n",
       "...                        ...                         ...   \n",
       "90741                      1.0                         0.0   \n",
       "90742                      1.0                         0.0   \n",
       "90743                      1.0                         0.0   \n",
       "90744                      1.0                         0.0   \n",
       "90745                      1.0                         0.0   \n",
       "\n",
       "       IN_QUADRA_ESPORTES_COBERTA  IN_COZINHA  IN_REFEITORIO  IN_DESPENSA  \\\n",
       "0                             0.0         1.0            0.0          1.0   \n",
       "1                             0.0         1.0            0.0          1.0   \n",
       "2                             0.0         1.0            0.0          1.0   \n",
       "3                             0.0         1.0            0.0          1.0   \n",
       "4                             0.0         1.0            0.0          1.0   \n",
       "...                           ...         ...            ...          ...   \n",
       "90741                         0.0         1.0            0.0          0.0   \n",
       "90742                         0.0         1.0            0.0          0.0   \n",
       "90743                         0.0         1.0            0.0          0.0   \n",
       "90744                         0.0         1.0            0.0          0.0   \n",
       "90745                         0.0         1.0            0.0          0.0   \n",
       "\n",
       "       IN_INTERNET  \n",
       "0              1.0  \n",
       "1              1.0  \n",
       "2              1.0  \n",
       "3              1.0  \n",
       "4              1.0  \n",
       "...            ...  \n",
       "90741          0.0  \n",
       "90742          0.0  \n",
       "90743          0.0  \n",
       "90744          0.0  \n",
       "90745          0.0  \n",
       "\n",
       "[90746 rows x 13 columns]"
      ]
     },
     "execution_count": 127,
     "metadata": {},
     "output_type": "execute_result"
    }
   ],
   "source": [
    "caminhoBase = \"data/database/data.csv\"\n",
    "df = pd.read_csv(caminhoBase)\n",
    "df"
   ]
  },
  {
   "cell_type": "code",
   "execution_count": 128,
   "metadata": {},
   "outputs": [],
   "source": [
    "tipos = df.dtypes\n",
    "atributos = df.columns"
   ]
  },
  {
   "cell_type": "markdown",
   "metadata": {},
   "source": [
    "Inserindo cada atributo da tabela resultante em um vetor para melhor manipulação dos dados"
   ]
  },
  {
   "cell_type": "code",
   "execution_count": 129,
   "metadata": {},
   "outputs": [],
   "source": [
    "vetor_nivelbairro = np.array(df.nivelbairro)\n",
    "vetor_serie = np.array(df.serie)\n",
    "vetor_genero = np.array(df.genero)\n",
    "vetor_resultado = np.array(df.resultado)\n",
    "vetor_IN_AGUA_FILTRADA = np.array(df.IN_AGUA_FILTRADA)\n",
    "vetor_IN_ENERGIA_REDE_PUBLICA = np.array(df.IN_ENERGIA_REDE_PUBLICA)\n",
    "vetor_IN_AGUA_FILTRADA = np.array(df.IN_AGUA_FILTRADA)\n",
    "vetor_IN_LABORATORIO_INFORMATICA = np.array(df.IN_LABORATORIO_INFORMATICA)\n",
    "vetor_IN_QUADRA_ESPORTES_COBERTA = np.array(df.IN_QUADRA_ESPORTES_COBERTA)\n",
    "vetor_IN_COZINHA = np.array(df.IN_COZINHA)\n",
    "vetor_IN_REFEITORIO = np.array(df.IN_REFEITORIO)\n",
    "vetor_IN_INTERNET = np.array(df.IN_INTERNET)"
   ]
  },
  {
   "cell_type": "markdown",
   "metadata": {},
   "source": [
    "Definindo um novo dataframe vazio"
   ]
  },
  {
   "cell_type": "code",
   "execution_count": 130,
   "metadata": {},
   "outputs": [
    {
     "data": {
      "text/html": [
       "<div>\n",
       "<style scoped>\n",
       "    .dataframe tbody tr th:only-of-type {\n",
       "        vertical-align: middle;\n",
       "    }\n",
       "\n",
       "    .dataframe tbody tr th {\n",
       "        vertical-align: top;\n",
       "    }\n",
       "\n",
       "    .dataframe thead th {\n",
       "        text-align: right;\n",
       "    }\n",
       "</style>\n",
       "<table border=\"1\" class=\"dataframe\">\n",
       "  <thead>\n",
       "    <tr style=\"text-align: right;\">\n",
       "      <th></th>\n",
       "    </tr>\n",
       "  </thead>\n",
       "  <tbody>\n",
       "  </tbody>\n",
       "</table>\n",
       "</div>"
      ],
      "text/plain": [
       "Empty DataFrame\n",
       "Columns: []\n",
       "Index: []"
      ]
     },
     "execution_count": 130,
     "metadata": {},
     "output_type": "execute_result"
    }
   ],
   "source": [
    "df = pd.DataFrame()\n",
    "df"
   ]
  },
  {
   "cell_type": "markdown",
   "metadata": {},
   "source": [
    "Definindo as colunas do novo dataframe e atribuindo para cada coluna, seu respectivo vetor de dados registrado anteriormente."
   ]
  },
  {
   "cell_type": "code",
   "execution_count": 132,
   "metadata": {},
   "outputs": [],
   "source": [
    "COLUNAS = [\n",
    "'nivelbairro',\n",
    "'serie',\n",
    "'genero',\n",
    "'resultado',\n",
    "'IN_AGUA_FILTRADA',\n",
    "'IN_ENERGIA_REDE_PUBLICA',\n",
    "'IN_LABORATORIO_INFORMATICA',\n",
    "'IN_QUADRA_ESPORTES_COBERTA',\n",
    "'IN_COZINHA',\n",
    "'IN_REFEITORIO',\n",
    "'IN_INTERNET',\n",
    "]\n",
    "\n",
    "df = pd.DataFrame(columns = COLUNAS)\n",
    "\n",
    "df.nivelbairro = vetor_nivelbairro \n",
    "df.serie = vetor_serie\n",
    "df.genero = vetor_genero \n",
    "df.resultado = vetor_resultado\n",
    "df.IN_AGUA_FILTRADA = vetor_IN_AGUA_FILTRADA \n",
    "df.IN_ENERGIA_REDE_PUBLICA = vetor_IN_ENERGIA_REDE_PUBLICA \n",
    "df.IN_LABORATORIO_INFORMATICA = vetor_IN_LABORATORIO_INFORMATICA \n",
    "df.IN_QUADRA_ESPORTES_COBERTA = vetor_IN_QUADRA_ESPORTES_COBERTA \n",
    "df.IN_COZINHA = vetor_IN_COZINHA \n",
    "df.IN_REFEITORIO = vetor_IN_REFEITORIO\n",
    "df.IN_INTERNET = vetor_IN_INTERNET\n"
   ]
  },
  {
   "cell_type": "code",
   "execution_count": 133,
   "metadata": {},
   "outputs": [
    {
     "data": {
      "text/html": [
       "<div>\n",
       "<style scoped>\n",
       "    .dataframe tbody tr th:only-of-type {\n",
       "        vertical-align: middle;\n",
       "    }\n",
       "\n",
       "    .dataframe tbody tr th {\n",
       "        vertical-align: top;\n",
       "    }\n",
       "\n",
       "    .dataframe thead th {\n",
       "        text-align: right;\n",
       "    }\n",
       "</style>\n",
       "<table border=\"1\" class=\"dataframe\">\n",
       "  <thead>\n",
       "    <tr style=\"text-align: right;\">\n",
       "      <th></th>\n",
       "      <th>nivelbairro</th>\n",
       "      <th>serie</th>\n",
       "      <th>genero</th>\n",
       "      <th>resultado</th>\n",
       "      <th>IN_AGUA_FILTRADA</th>\n",
       "      <th>IN_ENERGIA_REDE_PUBLICA</th>\n",
       "      <th>IN_LABORATORIO_INFORMATICA</th>\n",
       "      <th>IN_QUADRA_ESPORTES_COBERTA</th>\n",
       "      <th>IN_COZINHA</th>\n",
       "      <th>IN_REFEITORIO</th>\n",
       "      <th>IN_INTERNET</th>\n",
       "    </tr>\n",
       "  </thead>\n",
       "  <tbody>\n",
       "    <tr>\n",
       "      <th>0</th>\n",
       "      <td>1</td>\n",
       "      <td>1</td>\n",
       "      <td>2</td>\n",
       "      <td>0</td>\n",
       "      <td>1.0</td>\n",
       "      <td>1.0</td>\n",
       "      <td>0.0</td>\n",
       "      <td>0.0</td>\n",
       "      <td>1.0</td>\n",
       "      <td>0.0</td>\n",
       "      <td>1.0</td>\n",
       "    </tr>\n",
       "    <tr>\n",
       "      <th>1</th>\n",
       "      <td>1</td>\n",
       "      <td>1</td>\n",
       "      <td>2</td>\n",
       "      <td>0</td>\n",
       "      <td>1.0</td>\n",
       "      <td>1.0</td>\n",
       "      <td>0.0</td>\n",
       "      <td>0.0</td>\n",
       "      <td>1.0</td>\n",
       "      <td>0.0</td>\n",
       "      <td>1.0</td>\n",
       "    </tr>\n",
       "    <tr>\n",
       "      <th>2</th>\n",
       "      <td>1</td>\n",
       "      <td>1</td>\n",
       "      <td>1</td>\n",
       "      <td>0</td>\n",
       "      <td>1.0</td>\n",
       "      <td>1.0</td>\n",
       "      <td>0.0</td>\n",
       "      <td>0.0</td>\n",
       "      <td>1.0</td>\n",
       "      <td>0.0</td>\n",
       "      <td>1.0</td>\n",
       "    </tr>\n",
       "    <tr>\n",
       "      <th>3</th>\n",
       "      <td>1</td>\n",
       "      <td>1</td>\n",
       "      <td>1</td>\n",
       "      <td>0</td>\n",
       "      <td>1.0</td>\n",
       "      <td>1.0</td>\n",
       "      <td>0.0</td>\n",
       "      <td>0.0</td>\n",
       "      <td>1.0</td>\n",
       "      <td>0.0</td>\n",
       "      <td>1.0</td>\n",
       "    </tr>\n",
       "    <tr>\n",
       "      <th>4</th>\n",
       "      <td>1</td>\n",
       "      <td>1</td>\n",
       "      <td>1</td>\n",
       "      <td>0</td>\n",
       "      <td>1.0</td>\n",
       "      <td>1.0</td>\n",
       "      <td>0.0</td>\n",
       "      <td>0.0</td>\n",
       "      <td>1.0</td>\n",
       "      <td>0.0</td>\n",
       "      <td>1.0</td>\n",
       "    </tr>\n",
       "    <tr>\n",
       "      <th>...</th>\n",
       "      <td>...</td>\n",
       "      <td>...</td>\n",
       "      <td>...</td>\n",
       "      <td>...</td>\n",
       "      <td>...</td>\n",
       "      <td>...</td>\n",
       "      <td>...</td>\n",
       "      <td>...</td>\n",
       "      <td>...</td>\n",
       "      <td>...</td>\n",
       "      <td>...</td>\n",
       "    </tr>\n",
       "    <tr>\n",
       "      <th>90741</th>\n",
       "      <td>4</td>\n",
       "      <td>1</td>\n",
       "      <td>2</td>\n",
       "      <td>0</td>\n",
       "      <td>1.0</td>\n",
       "      <td>1.0</td>\n",
       "      <td>0.0</td>\n",
       "      <td>0.0</td>\n",
       "      <td>1.0</td>\n",
       "      <td>0.0</td>\n",
       "      <td>0.0</td>\n",
       "    </tr>\n",
       "    <tr>\n",
       "      <th>90742</th>\n",
       "      <td>4</td>\n",
       "      <td>1</td>\n",
       "      <td>2</td>\n",
       "      <td>0</td>\n",
       "      <td>1.0</td>\n",
       "      <td>1.0</td>\n",
       "      <td>0.0</td>\n",
       "      <td>0.0</td>\n",
       "      <td>1.0</td>\n",
       "      <td>0.0</td>\n",
       "      <td>0.0</td>\n",
       "    </tr>\n",
       "    <tr>\n",
       "      <th>90743</th>\n",
       "      <td>4</td>\n",
       "      <td>1</td>\n",
       "      <td>2</td>\n",
       "      <td>0</td>\n",
       "      <td>1.0</td>\n",
       "      <td>1.0</td>\n",
       "      <td>0.0</td>\n",
       "      <td>0.0</td>\n",
       "      <td>1.0</td>\n",
       "      <td>0.0</td>\n",
       "      <td>0.0</td>\n",
       "    </tr>\n",
       "    <tr>\n",
       "      <th>90744</th>\n",
       "      <td>4</td>\n",
       "      <td>1</td>\n",
       "      <td>2</td>\n",
       "      <td>0</td>\n",
       "      <td>1.0</td>\n",
       "      <td>1.0</td>\n",
       "      <td>0.0</td>\n",
       "      <td>0.0</td>\n",
       "      <td>1.0</td>\n",
       "      <td>0.0</td>\n",
       "      <td>0.0</td>\n",
       "    </tr>\n",
       "    <tr>\n",
       "      <th>90745</th>\n",
       "      <td>4</td>\n",
       "      <td>1</td>\n",
       "      <td>1</td>\n",
       "      <td>0</td>\n",
       "      <td>1.0</td>\n",
       "      <td>1.0</td>\n",
       "      <td>0.0</td>\n",
       "      <td>0.0</td>\n",
       "      <td>1.0</td>\n",
       "      <td>0.0</td>\n",
       "      <td>0.0</td>\n",
       "    </tr>\n",
       "  </tbody>\n",
       "</table>\n",
       "<p>90746 rows × 11 columns</p>\n",
       "</div>"
      ],
      "text/plain": [
       "       nivelbairro  serie  genero  resultado  IN_AGUA_FILTRADA  \\\n",
       "0                1      1       2          0               1.0   \n",
       "1                1      1       2          0               1.0   \n",
       "2                1      1       1          0               1.0   \n",
       "3                1      1       1          0               1.0   \n",
       "4                1      1       1          0               1.0   \n",
       "...            ...    ...     ...        ...               ...   \n",
       "90741            4      1       2          0               1.0   \n",
       "90742            4      1       2          0               1.0   \n",
       "90743            4      1       2          0               1.0   \n",
       "90744            4      1       2          0               1.0   \n",
       "90745            4      1       1          0               1.0   \n",
       "\n",
       "       IN_ENERGIA_REDE_PUBLICA  IN_LABORATORIO_INFORMATICA  \\\n",
       "0                          1.0                         0.0   \n",
       "1                          1.0                         0.0   \n",
       "2                          1.0                         0.0   \n",
       "3                          1.0                         0.0   \n",
       "4                          1.0                         0.0   \n",
       "...                        ...                         ...   \n",
       "90741                      1.0                         0.0   \n",
       "90742                      1.0                         0.0   \n",
       "90743                      1.0                         0.0   \n",
       "90744                      1.0                         0.0   \n",
       "90745                      1.0                         0.0   \n",
       "\n",
       "       IN_QUADRA_ESPORTES_COBERTA  IN_COZINHA  IN_REFEITORIO  IN_INTERNET  \n",
       "0                             0.0         1.0            0.0          1.0  \n",
       "1                             0.0         1.0            0.0          1.0  \n",
       "2                             0.0         1.0            0.0          1.0  \n",
       "3                             0.0         1.0            0.0          1.0  \n",
       "4                             0.0         1.0            0.0          1.0  \n",
       "...                           ...         ...            ...          ...  \n",
       "90741                         0.0         1.0            0.0          0.0  \n",
       "90742                         0.0         1.0            0.0          0.0  \n",
       "90743                         0.0         1.0            0.0          0.0  \n",
       "90744                         0.0         1.0            0.0          0.0  \n",
       "90745                         0.0         1.0            0.0          0.0  \n",
       "\n",
       "[90746 rows x 11 columns]"
      ]
     },
     "execution_count": 133,
     "metadata": {},
     "output_type": "execute_result"
    }
   ],
   "source": [
    "df"
   ]
  },
  {
   "cell_type": "markdown",
   "metadata": {},
   "source": [
    "Impressão da coluna da situacao dos alunos"
   ]
  },
  {
   "cell_type": "code",
   "execution_count": 134,
   "metadata": {},
   "outputs": [
    {
     "data": {
      "text/plain": [
       "0        0\n",
       "1        0\n",
       "2        0\n",
       "3        0\n",
       "4        0\n",
       "        ..\n",
       "90741    0\n",
       "90742    0\n",
       "90743    0\n",
       "90744    0\n",
       "90745    0\n",
       "Name: resultado, Length: 90746, dtype: int64"
      ]
     },
     "execution_count": 134,
     "metadata": {},
     "output_type": "execute_result"
    }
   ],
   "source": [
    "df.resultado"
   ]
  },
  {
   "cell_type": "markdown",
   "metadata": {},
   "source": [
    "Informações do dataframe\n",
    "\n",
    "Atributos, elementos não nulos, Tipo das variáveis da coluna"
   ]
  },
  {
   "cell_type": "code",
   "execution_count": 135,
   "metadata": {},
   "outputs": [
    {
     "name": "stdout",
     "output_type": "stream",
     "text": [
      "<class 'pandas.core.frame.DataFrame'>\n",
      "RangeIndex: 90746 entries, 0 to 90745\n",
      "Data columns (total 11 columns):\n",
      " #   Column                      Non-Null Count  Dtype  \n",
      "---  ------                      --------------  -----  \n",
      " 0   nivelbairro                 90746 non-null  int64  \n",
      " 1   serie                       90746 non-null  int64  \n",
      " 2   genero                      90746 non-null  int64  \n",
      " 3   resultado                   90746 non-null  int64  \n",
      " 4   IN_AGUA_FILTRADA            90746 non-null  float64\n",
      " 5   IN_ENERGIA_REDE_PUBLICA     90746 non-null  float64\n",
      " 6   IN_LABORATORIO_INFORMATICA  90746 non-null  float64\n",
      " 7   IN_QUADRA_ESPORTES_COBERTA  90746 non-null  float64\n",
      " 8   IN_COZINHA                  90746 non-null  float64\n",
      " 9   IN_REFEITORIO               90746 non-null  float64\n",
      " 10  IN_INTERNET                 90746 non-null  float64\n",
      "dtypes: float64(7), int64(4)\n",
      "memory usage: 7.6 MB\n"
     ]
    }
   ],
   "source": [
    "df.info()"
   ]
  },
  {
   "cell_type": "markdown",
   "metadata": {},
   "source": [
    "Agrupando os elementos do dataframe por resultado"
   ]
  },
  {
   "cell_type": "code",
   "execution_count": 136,
   "metadata": {},
   "outputs": [
    {
     "data": {
      "text/plain": [
       "resultado\n",
       "0    88799\n",
       "1     1947\n",
       "dtype: int64"
      ]
     },
     "execution_count": 136,
     "metadata": {},
     "output_type": "execute_result"
    }
   ],
   "source": [
    "df.groupby(by='resultado').size()"
   ]
  },
  {
   "cell_type": "markdown",
   "metadata": {},
   "source": [
    "Importando os métodos de árvore de decisão"
   ]
  },
  {
   "cell_type": "code",
   "execution_count": 137,
   "metadata": {},
   "outputs": [],
   "source": [
    "\n",
    "from sklearn.tree import DecisionTreeClassifier, export_graphviz\n",
    "from sklearn.model_selection import train_test_split\n",
    "from sklearn import metrics"
   ]
  },
  {
   "cell_type": "code",
   "execution_count": 138,
   "metadata": {},
   "outputs": [],
   "source": [
    "result_df = df"
   ]
  },
  {
   "cell_type": "markdown",
   "metadata": {},
   "source": [
    "Criação de um dataframe reserva para possíveis conclusões"
   ]
  },
  {
   "cell_type": "code",
   "execution_count": 139,
   "metadata": {},
   "outputs": [
    {
     "data": {
      "text/html": [
       "<div>\n",
       "<style scoped>\n",
       "    .dataframe tbody tr th:only-of-type {\n",
       "        vertical-align: middle;\n",
       "    }\n",
       "\n",
       "    .dataframe tbody tr th {\n",
       "        vertical-align: top;\n",
       "    }\n",
       "\n",
       "    .dataframe thead th {\n",
       "        text-align: right;\n",
       "    }\n",
       "</style>\n",
       "<table border=\"1\" class=\"dataframe\">\n",
       "  <thead>\n",
       "    <tr style=\"text-align: right;\">\n",
       "      <th></th>\n",
       "      <th>nivelbairro</th>\n",
       "      <th>serie</th>\n",
       "      <th>genero</th>\n",
       "      <th>resultado</th>\n",
       "      <th>IN_AGUA_FILTRADA</th>\n",
       "      <th>IN_ENERGIA_REDE_PUBLICA</th>\n",
       "      <th>IN_LABORATORIO_INFORMATICA</th>\n",
       "      <th>IN_QUADRA_ESPORTES_COBERTA</th>\n",
       "      <th>IN_COZINHA</th>\n",
       "      <th>IN_REFEITORIO</th>\n",
       "      <th>IN_INTERNET</th>\n",
       "    </tr>\n",
       "  </thead>\n",
       "  <tbody>\n",
       "    <tr>\n",
       "      <th>0</th>\n",
       "      <td>1</td>\n",
       "      <td>1</td>\n",
       "      <td>2</td>\n",
       "      <td>0</td>\n",
       "      <td>1.0</td>\n",
       "      <td>1.0</td>\n",
       "      <td>0.0</td>\n",
       "      <td>0.0</td>\n",
       "      <td>1.0</td>\n",
       "      <td>0.0</td>\n",
       "      <td>1.0</td>\n",
       "    </tr>\n",
       "    <tr>\n",
       "      <th>1</th>\n",
       "      <td>1</td>\n",
       "      <td>1</td>\n",
       "      <td>2</td>\n",
       "      <td>0</td>\n",
       "      <td>1.0</td>\n",
       "      <td>1.0</td>\n",
       "      <td>0.0</td>\n",
       "      <td>0.0</td>\n",
       "      <td>1.0</td>\n",
       "      <td>0.0</td>\n",
       "      <td>1.0</td>\n",
       "    </tr>\n",
       "    <tr>\n",
       "      <th>2</th>\n",
       "      <td>1</td>\n",
       "      <td>1</td>\n",
       "      <td>1</td>\n",
       "      <td>0</td>\n",
       "      <td>1.0</td>\n",
       "      <td>1.0</td>\n",
       "      <td>0.0</td>\n",
       "      <td>0.0</td>\n",
       "      <td>1.0</td>\n",
       "      <td>0.0</td>\n",
       "      <td>1.0</td>\n",
       "    </tr>\n",
       "    <tr>\n",
       "      <th>3</th>\n",
       "      <td>1</td>\n",
       "      <td>1</td>\n",
       "      <td>1</td>\n",
       "      <td>0</td>\n",
       "      <td>1.0</td>\n",
       "      <td>1.0</td>\n",
       "      <td>0.0</td>\n",
       "      <td>0.0</td>\n",
       "      <td>1.0</td>\n",
       "      <td>0.0</td>\n",
       "      <td>1.0</td>\n",
       "    </tr>\n",
       "    <tr>\n",
       "      <th>4</th>\n",
       "      <td>1</td>\n",
       "      <td>1</td>\n",
       "      <td>1</td>\n",
       "      <td>0</td>\n",
       "      <td>1.0</td>\n",
       "      <td>1.0</td>\n",
       "      <td>0.0</td>\n",
       "      <td>0.0</td>\n",
       "      <td>1.0</td>\n",
       "      <td>0.0</td>\n",
       "      <td>1.0</td>\n",
       "    </tr>\n",
       "    <tr>\n",
       "      <th>...</th>\n",
       "      <td>...</td>\n",
       "      <td>...</td>\n",
       "      <td>...</td>\n",
       "      <td>...</td>\n",
       "      <td>...</td>\n",
       "      <td>...</td>\n",
       "      <td>...</td>\n",
       "      <td>...</td>\n",
       "      <td>...</td>\n",
       "      <td>...</td>\n",
       "      <td>...</td>\n",
       "    </tr>\n",
       "    <tr>\n",
       "      <th>90741</th>\n",
       "      <td>4</td>\n",
       "      <td>1</td>\n",
       "      <td>2</td>\n",
       "      <td>0</td>\n",
       "      <td>1.0</td>\n",
       "      <td>1.0</td>\n",
       "      <td>0.0</td>\n",
       "      <td>0.0</td>\n",
       "      <td>1.0</td>\n",
       "      <td>0.0</td>\n",
       "      <td>0.0</td>\n",
       "    </tr>\n",
       "    <tr>\n",
       "      <th>90742</th>\n",
       "      <td>4</td>\n",
       "      <td>1</td>\n",
       "      <td>2</td>\n",
       "      <td>0</td>\n",
       "      <td>1.0</td>\n",
       "      <td>1.0</td>\n",
       "      <td>0.0</td>\n",
       "      <td>0.0</td>\n",
       "      <td>1.0</td>\n",
       "      <td>0.0</td>\n",
       "      <td>0.0</td>\n",
       "    </tr>\n",
       "    <tr>\n",
       "      <th>90743</th>\n",
       "      <td>4</td>\n",
       "      <td>1</td>\n",
       "      <td>2</td>\n",
       "      <td>0</td>\n",
       "      <td>1.0</td>\n",
       "      <td>1.0</td>\n",
       "      <td>0.0</td>\n",
       "      <td>0.0</td>\n",
       "      <td>1.0</td>\n",
       "      <td>0.0</td>\n",
       "      <td>0.0</td>\n",
       "    </tr>\n",
       "    <tr>\n",
       "      <th>90744</th>\n",
       "      <td>4</td>\n",
       "      <td>1</td>\n",
       "      <td>2</td>\n",
       "      <td>0</td>\n",
       "      <td>1.0</td>\n",
       "      <td>1.0</td>\n",
       "      <td>0.0</td>\n",
       "      <td>0.0</td>\n",
       "      <td>1.0</td>\n",
       "      <td>0.0</td>\n",
       "      <td>0.0</td>\n",
       "    </tr>\n",
       "    <tr>\n",
       "      <th>90745</th>\n",
       "      <td>4</td>\n",
       "      <td>1</td>\n",
       "      <td>1</td>\n",
       "      <td>0</td>\n",
       "      <td>1.0</td>\n",
       "      <td>1.0</td>\n",
       "      <td>0.0</td>\n",
       "      <td>0.0</td>\n",
       "      <td>1.0</td>\n",
       "      <td>0.0</td>\n",
       "      <td>0.0</td>\n",
       "    </tr>\n",
       "  </tbody>\n",
       "</table>\n",
       "<p>90746 rows × 11 columns</p>\n",
       "</div>"
      ],
      "text/plain": [
       "       nivelbairro  serie  genero  resultado  IN_AGUA_FILTRADA  \\\n",
       "0                1      1       2          0               1.0   \n",
       "1                1      1       2          0               1.0   \n",
       "2                1      1       1          0               1.0   \n",
       "3                1      1       1          0               1.0   \n",
       "4                1      1       1          0               1.0   \n",
       "...            ...    ...     ...        ...               ...   \n",
       "90741            4      1       2          0               1.0   \n",
       "90742            4      1       2          0               1.0   \n",
       "90743            4      1       2          0               1.0   \n",
       "90744            4      1       2          0               1.0   \n",
       "90745            4      1       1          0               1.0   \n",
       "\n",
       "       IN_ENERGIA_REDE_PUBLICA  IN_LABORATORIO_INFORMATICA  \\\n",
       "0                          1.0                         0.0   \n",
       "1                          1.0                         0.0   \n",
       "2                          1.0                         0.0   \n",
       "3                          1.0                         0.0   \n",
       "4                          1.0                         0.0   \n",
       "...                        ...                         ...   \n",
       "90741                      1.0                         0.0   \n",
       "90742                      1.0                         0.0   \n",
       "90743                      1.0                         0.0   \n",
       "90744                      1.0                         0.0   \n",
       "90745                      1.0                         0.0   \n",
       "\n",
       "       IN_QUADRA_ESPORTES_COBERTA  IN_COZINHA  IN_REFEITORIO  IN_INTERNET  \n",
       "0                             0.0         1.0            0.0          1.0  \n",
       "1                             0.0         1.0            0.0          1.0  \n",
       "2                             0.0         1.0            0.0          1.0  \n",
       "3                             0.0         1.0            0.0          1.0  \n",
       "4                             0.0         1.0            0.0          1.0  \n",
       "...                           ...         ...            ...          ...  \n",
       "90741                         0.0         1.0            0.0          0.0  \n",
       "90742                         0.0         1.0            0.0          0.0  \n",
       "90743                         0.0         1.0            0.0          0.0  \n",
       "90744                         0.0         1.0            0.0          0.0  \n",
       "90745                         0.0         1.0            0.0          0.0  \n",
       "\n",
       "[90746 rows x 11 columns]"
      ]
     },
     "execution_count": 139,
     "metadata": {},
     "output_type": "execute_result"
    }
   ],
   "source": [
    "reserva = result_df\n",
    "reserva"
   ]
  },
  {
   "cell_type": "markdown",
   "metadata": {},
   "source": [
    "Processo de separação de treine/teste\n",
    "\n",
    "Proporções estabelecidas:\n",
    "\n",
    "70% treino\n",
    "\n",
    "30% teste"
   ]
  },
  {
   "cell_type": "code",
   "execution_count": 140,
   "metadata": {},
   "outputs": [],
   "source": [
    "\n",
    "X_train, X_test, y_train, y_test = train_test_split(result_df.drop('resultado', axis=1), result_df['resultado'], test_size=0.3)"
   ]
  },
  {
   "cell_type": "markdown",
   "metadata": {},
   "source": [
    "Número de amostras para cada processo"
   ]
  },
  {
   "cell_type": "code",
   "execution_count": 141,
   "metadata": {},
   "outputs": [
    {
     "data": {
      "text/plain": [
       "((63522, 10), (27224, 10))"
      ]
     },
     "execution_count": 141,
     "metadata": {},
     "output_type": "execute_result"
    }
   ],
   "source": [
    "X_train.shape, X_test.shape"
   ]
  },
  {
   "cell_type": "markdown",
   "metadata": {},
   "source": [
    "\n",
    "Número de targets para cada processo"
   ]
  },
  {
   "cell_type": "code",
   "execution_count": 142,
   "metadata": {},
   "outputs": [
    {
     "data": {
      "text/plain": [
       "((63522,), (27224,))"
      ]
     },
     "execution_count": 142,
     "metadata": {},
     "output_type": "execute_result"
    }
   ],
   "source": [
    "y_train.shape, y_test.shape"
   ]
  },
  {
   "cell_type": "markdown",
   "metadata": {},
   "source": [
    "\n",
    "Criação do classifcador"
   ]
  },
  {
   "cell_type": "code",
   "execution_count": 143,
   "metadata": {},
   "outputs": [],
   "source": [
    "cls = DecisionTreeClassifier()"
   ]
  },
  {
   "cell_type": "markdown",
   "metadata": {},
   "source": [
    "Treinamento"
   ]
  },
  {
   "cell_type": "code",
   "execution_count": 144,
   "metadata": {},
   "outputs": [
    {
     "data": {
      "text/html": [
       "<div>\n",
       "<style scoped>\n",
       "    .dataframe tbody tr th:only-of-type {\n",
       "        vertical-align: middle;\n",
       "    }\n",
       "\n",
       "    .dataframe tbody tr th {\n",
       "        vertical-align: top;\n",
       "    }\n",
       "\n",
       "    .dataframe thead th {\n",
       "        text-align: right;\n",
       "    }\n",
       "</style>\n",
       "<table border=\"1\" class=\"dataframe\">\n",
       "  <thead>\n",
       "    <tr style=\"text-align: right;\">\n",
       "      <th></th>\n",
       "      <th>nivelbairro</th>\n",
       "      <th>serie</th>\n",
       "      <th>genero</th>\n",
       "      <th>resultado</th>\n",
       "      <th>IN_AGUA_FILTRADA</th>\n",
       "      <th>IN_ENERGIA_REDE_PUBLICA</th>\n",
       "      <th>IN_LABORATORIO_INFORMATICA</th>\n",
       "      <th>IN_QUADRA_ESPORTES_COBERTA</th>\n",
       "      <th>IN_COZINHA</th>\n",
       "      <th>IN_REFEITORIO</th>\n",
       "      <th>IN_INTERNET</th>\n",
       "    </tr>\n",
       "  </thead>\n",
       "  <tbody>\n",
       "    <tr>\n",
       "      <th>0</th>\n",
       "      <td>1</td>\n",
       "      <td>1</td>\n",
       "      <td>2</td>\n",
       "      <td>0</td>\n",
       "      <td>1.0</td>\n",
       "      <td>1.0</td>\n",
       "      <td>0.0</td>\n",
       "      <td>0.0</td>\n",
       "      <td>1.0</td>\n",
       "      <td>0.0</td>\n",
       "      <td>1.0</td>\n",
       "    </tr>\n",
       "    <tr>\n",
       "      <th>1</th>\n",
       "      <td>1</td>\n",
       "      <td>1</td>\n",
       "      <td>2</td>\n",
       "      <td>0</td>\n",
       "      <td>1.0</td>\n",
       "      <td>1.0</td>\n",
       "      <td>0.0</td>\n",
       "      <td>0.0</td>\n",
       "      <td>1.0</td>\n",
       "      <td>0.0</td>\n",
       "      <td>1.0</td>\n",
       "    </tr>\n",
       "    <tr>\n",
       "      <th>2</th>\n",
       "      <td>1</td>\n",
       "      <td>1</td>\n",
       "      <td>1</td>\n",
       "      <td>0</td>\n",
       "      <td>1.0</td>\n",
       "      <td>1.0</td>\n",
       "      <td>0.0</td>\n",
       "      <td>0.0</td>\n",
       "      <td>1.0</td>\n",
       "      <td>0.0</td>\n",
       "      <td>1.0</td>\n",
       "    </tr>\n",
       "    <tr>\n",
       "      <th>3</th>\n",
       "      <td>1</td>\n",
       "      <td>1</td>\n",
       "      <td>1</td>\n",
       "      <td>0</td>\n",
       "      <td>1.0</td>\n",
       "      <td>1.0</td>\n",
       "      <td>0.0</td>\n",
       "      <td>0.0</td>\n",
       "      <td>1.0</td>\n",
       "      <td>0.0</td>\n",
       "      <td>1.0</td>\n",
       "    </tr>\n",
       "    <tr>\n",
       "      <th>4</th>\n",
       "      <td>1</td>\n",
       "      <td>1</td>\n",
       "      <td>1</td>\n",
       "      <td>0</td>\n",
       "      <td>1.0</td>\n",
       "      <td>1.0</td>\n",
       "      <td>0.0</td>\n",
       "      <td>0.0</td>\n",
       "      <td>1.0</td>\n",
       "      <td>0.0</td>\n",
       "      <td>1.0</td>\n",
       "    </tr>\n",
       "    <tr>\n",
       "      <th>...</th>\n",
       "      <td>...</td>\n",
       "      <td>...</td>\n",
       "      <td>...</td>\n",
       "      <td>...</td>\n",
       "      <td>...</td>\n",
       "      <td>...</td>\n",
       "      <td>...</td>\n",
       "      <td>...</td>\n",
       "      <td>...</td>\n",
       "      <td>...</td>\n",
       "      <td>...</td>\n",
       "    </tr>\n",
       "    <tr>\n",
       "      <th>90741</th>\n",
       "      <td>4</td>\n",
       "      <td>1</td>\n",
       "      <td>2</td>\n",
       "      <td>0</td>\n",
       "      <td>1.0</td>\n",
       "      <td>1.0</td>\n",
       "      <td>0.0</td>\n",
       "      <td>0.0</td>\n",
       "      <td>1.0</td>\n",
       "      <td>0.0</td>\n",
       "      <td>0.0</td>\n",
       "    </tr>\n",
       "    <tr>\n",
       "      <th>90742</th>\n",
       "      <td>4</td>\n",
       "      <td>1</td>\n",
       "      <td>2</td>\n",
       "      <td>0</td>\n",
       "      <td>1.0</td>\n",
       "      <td>1.0</td>\n",
       "      <td>0.0</td>\n",
       "      <td>0.0</td>\n",
       "      <td>1.0</td>\n",
       "      <td>0.0</td>\n",
       "      <td>0.0</td>\n",
       "    </tr>\n",
       "    <tr>\n",
       "      <th>90743</th>\n",
       "      <td>4</td>\n",
       "      <td>1</td>\n",
       "      <td>2</td>\n",
       "      <td>0</td>\n",
       "      <td>1.0</td>\n",
       "      <td>1.0</td>\n",
       "      <td>0.0</td>\n",
       "      <td>0.0</td>\n",
       "      <td>1.0</td>\n",
       "      <td>0.0</td>\n",
       "      <td>0.0</td>\n",
       "    </tr>\n",
       "    <tr>\n",
       "      <th>90744</th>\n",
       "      <td>4</td>\n",
       "      <td>1</td>\n",
       "      <td>2</td>\n",
       "      <td>0</td>\n",
       "      <td>1.0</td>\n",
       "      <td>1.0</td>\n",
       "      <td>0.0</td>\n",
       "      <td>0.0</td>\n",
       "      <td>1.0</td>\n",
       "      <td>0.0</td>\n",
       "      <td>0.0</td>\n",
       "    </tr>\n",
       "    <tr>\n",
       "      <th>90745</th>\n",
       "      <td>4</td>\n",
       "      <td>1</td>\n",
       "      <td>1</td>\n",
       "      <td>0</td>\n",
       "      <td>1.0</td>\n",
       "      <td>1.0</td>\n",
       "      <td>0.0</td>\n",
       "      <td>0.0</td>\n",
       "      <td>1.0</td>\n",
       "      <td>0.0</td>\n",
       "      <td>0.0</td>\n",
       "    </tr>\n",
       "  </tbody>\n",
       "</table>\n",
       "<p>90746 rows × 11 columns</p>\n",
       "</div>"
      ],
      "text/plain": [
       "       nivelbairro  serie  genero  resultado  IN_AGUA_FILTRADA  \\\n",
       "0                1      1       2          0               1.0   \n",
       "1                1      1       2          0               1.0   \n",
       "2                1      1       1          0               1.0   \n",
       "3                1      1       1          0               1.0   \n",
       "4                1      1       1          0               1.0   \n",
       "...            ...    ...     ...        ...               ...   \n",
       "90741            4      1       2          0               1.0   \n",
       "90742            4      1       2          0               1.0   \n",
       "90743            4      1       2          0               1.0   \n",
       "90744            4      1       2          0               1.0   \n",
       "90745            4      1       1          0               1.0   \n",
       "\n",
       "       IN_ENERGIA_REDE_PUBLICA  IN_LABORATORIO_INFORMATICA  \\\n",
       "0                          1.0                         0.0   \n",
       "1                          1.0                         0.0   \n",
       "2                          1.0                         0.0   \n",
       "3                          1.0                         0.0   \n",
       "4                          1.0                         0.0   \n",
       "...                        ...                         ...   \n",
       "90741                      1.0                         0.0   \n",
       "90742                      1.0                         0.0   \n",
       "90743                      1.0                         0.0   \n",
       "90744                      1.0                         0.0   \n",
       "90745                      1.0                         0.0   \n",
       "\n",
       "       IN_QUADRA_ESPORTES_COBERTA  IN_COZINHA  IN_REFEITORIO  IN_INTERNET  \n",
       "0                             0.0         1.0            0.0          1.0  \n",
       "1                             0.0         1.0            0.0          1.0  \n",
       "2                             0.0         1.0            0.0          1.0  \n",
       "3                             0.0         1.0            0.0          1.0  \n",
       "4                             0.0         1.0            0.0          1.0  \n",
       "...                           ...         ...            ...          ...  \n",
       "90741                         0.0         1.0            0.0          0.0  \n",
       "90742                         0.0         1.0            0.0          0.0  \n",
       "90743                         0.0         1.0            0.0          0.0  \n",
       "90744                         0.0         1.0            0.0          0.0  \n",
       "90745                         0.0         1.0            0.0          0.0  \n",
       "\n",
       "[90746 rows x 11 columns]"
      ]
     },
     "execution_count": 144,
     "metadata": {},
     "output_type": "execute_result"
    }
   ],
   "source": [
    "df"
   ]
  },
  {
   "cell_type": "code",
   "execution_count": 145,
   "metadata": {},
   "outputs": [],
   "source": [
    "cls = cls.fit(X_train, y_train)"
   ]
  },
  {
   "cell_type": "markdown",
   "metadata": {},
   "source": [
    "Vetor com as importancias de cada atributo para a determinação do review_score"
   ]
  },
  {
   "cell_type": "code",
   "execution_count": 146,
   "metadata": {},
   "outputs": [
    {
     "data": {
      "text/plain": [
       "array([0.09944631, 0.50109134, 0.0411447 , 0.01065095, 0.        ,\n",
       "       0.06654085, 0.09309838, 0.07739256, 0.04388668, 0.06674824])"
      ]
     },
     "execution_count": 146,
     "metadata": {},
     "output_type": "execute_result"
    }
   ],
   "source": [
    "cls.feature_importances_"
   ]
  },
  {
   "cell_type": "markdown",
   "metadata": {},
   "source": [
    "Para tornar o modelo mais visual, criamos um laço para a impressão dos pesos de cada atributo para determinar o resultado"
   ]
  },
  {
   "cell_type": "code",
   "execution_count": 147,
   "metadata": {},
   "outputs": [
    {
     "name": "stdout",
     "output_type": "stream",
     "text": [
      "nivelbairro:9.9%\n",
      "serie:50.1%\n",
      "genero:4.1%\n",
      "resultado:1.1%\n",
      "IN_AGUA_FILTRADA:0.0%\n",
      "IN_ENERGIA_REDE_PUBLICA:6.7%\n",
      "IN_LABORATORIO_INFORMATICA:9.3%\n",
      "IN_QUADRA_ESPORTES_COBERTA:7.7%\n",
      "IN_COZINHA:4.4%\n",
      "IN_REFEITORIO:6.7%\n"
     ]
    }
   ],
   "source": [
    "for feature, importancia in zip(result_df.columns, cls.feature_importances_):\n",
    "    print(\"{}:{:.1f}%\".format(feature,((importancia*100))))"
   ]
  },
  {
   "cell_type": "markdown",
   "metadata": {},
   "source": [
    "Vetor com predições para checagem do aprendizado"
   ]
  },
  {
   "cell_type": "code",
   "execution_count": 148,
   "metadata": {},
   "outputs": [
    {
     "data": {
      "text/plain": [
       "array([0, 0, 0, ..., 0, 0, 0])"
      ]
     },
     "execution_count": 148,
     "metadata": {},
     "output_type": "execute_result"
    }
   ],
   "source": [
    "result = cls.predict(X_test)\n",
    "result"
   ]
  },
  {
   "cell_type": "markdown",
   "metadata": {},
   "source": [
    "Representação das métricas de precisão e médias do modelo"
   ]
  },
  {
   "cell_type": "code",
   "execution_count": 149,
   "metadata": {},
   "outputs": [
    {
     "name": "stdout",
     "output_type": "stream",
     "text": [
      "              precision    recall  f1-score   support\n",
      "\n",
      "           0       0.98      1.00      0.99     26639\n",
      "           1       0.00      0.00      0.00       585\n",
      "\n",
      "    accuracy                           0.98     27224\n",
      "   macro avg       0.49      0.50      0.49     27224\n",
      "weighted avg       0.96      0.98      0.97     27224\n",
      "\n"
     ]
    },
    {
     "name": "stderr",
     "output_type": "stream",
     "text": [
      "/home/vitoria/.local/lib/python3.8/site-packages/sklearn/metrics/_classification.py:1334: UndefinedMetricWarning: Precision and F-score are ill-defined and being set to 0.0 in labels with no predicted samples. Use `zero_division` parameter to control this behavior.\n",
      "  _warn_prf(average, modifier, msg_start, len(result))\n",
      "/home/vitoria/.local/lib/python3.8/site-packages/sklearn/metrics/_classification.py:1334: UndefinedMetricWarning: Precision and F-score are ill-defined and being set to 0.0 in labels with no predicted samples. Use `zero_division` parameter to control this behavior.\n",
      "  _warn_prf(average, modifier, msg_start, len(result))\n",
      "/home/vitoria/.local/lib/python3.8/site-packages/sklearn/metrics/_classification.py:1334: UndefinedMetricWarning: Precision and F-score are ill-defined and being set to 0.0 in labels with no predicted samples. Use `zero_division` parameter to control this behavior.\n",
      "  _warn_prf(average, modifier, msg_start, len(result))\n"
     ]
    }
   ],
   "source": [
    "from sklearn import metrics\n",
    "print(metrics.classification_report(y_test,result))"
   ]
  },
  {
   "cell_type": "markdown",
   "metadata": {},
   "source": [
    "Precisão total"
   ]
  },
  {
   "cell_type": "code",
   "execution_count": 150,
   "metadata": {},
   "outputs": [
    {
     "data": {
      "text/plain": [
       "0.9784011926771738"
      ]
     },
     "execution_count": 150,
     "metadata": {},
     "output_type": "execute_result"
    }
   ],
   "source": [
    "from sklearn.model_selection import cross_val_score\n",
    "allScores = cross_val_score(cls, X_train, y_train , cv=10)\n",
    "allScores.mean()"
   ]
  },
  {
   "cell_type": "markdown",
   "metadata": {},
   "source": [
    "Treinamento utilizando o dataframe reserva. (apenas com os alunos que evadiram)\n",
    "\n",
    "Split do dataframe em treino e teste (70%, 30%, respectivamente)"
   ]
  },
  {
   "cell_type": "code",
   "execution_count": 151,
   "metadata": {},
   "outputs": [],
   "source": [
    "X_train, X_test, y_train, y_test = train_test_split(reserva.drop('resultado', axis=1), reserva['resultado'], test_size=0.3)"
   ]
  },
  {
   "cell_type": "markdown",
   "metadata": {},
   "source": [
    "Quantidade de amostras do treino"
   ]
  },
  {
   "cell_type": "code",
   "execution_count": 152,
   "metadata": {},
   "outputs": [
    {
     "data": {
      "text/plain": [
       "((63522, 10), (27224, 10))"
      ]
     },
     "execution_count": 152,
     "metadata": {},
     "output_type": "execute_result"
    }
   ],
   "source": [
    "X_train.shape, X_test.shape"
   ]
  },
  {
   "cell_type": "markdown",
   "metadata": {},
   "source": [
    "Classificador"
   ]
  },
  {
   "cell_type": "code",
   "execution_count": 153,
   "metadata": {},
   "outputs": [],
   "source": [
    "clf = DecisionTreeClassifier()"
   ]
  },
  {
   "cell_type": "markdown",
   "metadata": {},
   "source": [
    "Treino"
   ]
  },
  {
   "cell_type": "code",
   "execution_count": 154,
   "metadata": {},
   "outputs": [],
   "source": [
    "clf = clf.fit(X_train, y_train)"
   ]
  },
  {
   "cell_type": "markdown",
   "metadata": {},
   "source": [
    "Importancia de cada atributo para determinar o nível de satisfação dos consumidores"
   ]
  },
  {
   "cell_type": "code",
   "execution_count": 155,
   "metadata": {},
   "outputs": [
    {
     "data": {
      "text/plain": [
       "array([0.09185959, 0.48700327, 0.04977169, 0.03189016, 0.00219493,\n",
       "       0.08648906, 0.09280813, 0.05644169, 0.04031305, 0.06122844])"
      ]
     },
     "execution_count": 155,
     "metadata": {},
     "output_type": "execute_result"
    }
   ],
   "source": [
    "clf.feature_importances_"
   ]
  },
  {
   "cell_type": "code",
   "execution_count": 156,
   "metadata": {},
   "outputs": [
    {
     "name": "stdout",
     "output_type": "stream",
     "text": [
      "nivelbairro:9.2%\n",
      "serie:48.7%\n",
      "genero:5.0%\n",
      "resultado:3.2%\n",
      "IN_AGUA_FILTRADA:0.2%\n",
      "IN_ENERGIA_REDE_PUBLICA:8.6%\n",
      "IN_LABORATORIO_INFORMATICA:9.3%\n",
      "IN_QUADRA_ESPORTES_COBERTA:5.6%\n",
      "IN_COZINHA:4.0%\n",
      "IN_REFEITORIO:6.1%\n"
     ]
    }
   ],
   "source": [
    "for feature, importancia in zip(reserva.columns, clf.feature_importances_):\n",
    "    print(\"{}:{:.1f}%\".format(feature,((importancia*100))))"
   ]
  }
 ],
 "metadata": {
  "interpreter": {
   "hash": "916dbcbb3f70747c44a77c7bcd40155683ae19c65e1c03b4aa3499c5328201f1"
  },
  "kernelspec": {
   "display_name": "Python 3.8.10 64-bit",
   "language": "python",
   "name": "python3"
  },
  "language_info": {
   "codemirror_mode": {
    "name": "ipython",
    "version": 3
   },
   "file_extension": ".py",
   "mimetype": "text/x-python",
   "name": "python",
   "nbconvert_exporter": "python",
   "pygments_lexer": "ipython3",
   "version": "3.8.10"
  },
  "orig_nbformat": 4
 },
 "nbformat": 4,
 "nbformat_minor": 2
}
